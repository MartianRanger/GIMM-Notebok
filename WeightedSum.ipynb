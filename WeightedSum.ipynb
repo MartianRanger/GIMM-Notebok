{
  "nbformat": 4,
  "nbformat_minor": 0,
  "metadata": {
    "colab": {
      "name": "WeightedSum.ipynb",
      "provenance": [],
      "include_colab_link": true
    },
    "kernelspec": {
      "name": "python3",
      "display_name": "Python 3"
    }
  },
  "cells": [
    {
      "cell_type": "markdown",
      "metadata": {
        "id": "view-in-github",
        "colab_type": "text"
      },
      "source": [
        "<a href=\"https://colab.research.google.com/github/MartianRanger/GIMM-Notebok/blob/master/WeightedSum.ipynb\" target=\"_parent\"><img src=\"https://colab.research.google.com/assets/colab-badge.svg\" alt=\"Open In Colab\"/></a>"
      ]
    },
    {
      "cell_type": "markdown",
      "metadata": {
        "id": "aaitfeByhsiZ",
        "colab_type": "text"
      },
      "source": [
        "#This is supposed to calculate the mean of two arrays and its standard deviation"
      ]
    },
    {
      "cell_type": "code",
      "metadata": {
        "id": "iMTkzH9EdxUL",
        "colab_type": "code",
        "colab": {
          "base_uri": "https://localhost:8080/",
          "height": 84
        },
        "outputId": "dc1aca72-6916-410b-a586-ef0f3c0bf3ba"
      },
      "source": [
        "import math\n",
        "\n",
        "num_list = input().split()\n",
        "num = []\n",
        "for i in num_list: \n",
        "  num.append(int(i))\n",
        "#for i in range(int(input())):\n",
        "#    num_list.append([int(x) for x in input().split()])\n",
        "percent_list = input().split()\n",
        "percent = []\n",
        "for i in percent_list: \n",
        "  percent.append(float(i))\n",
        "\n",
        "#percent_list.append([float(y) for y in input().split()])\n",
        "sum = 0\n",
        "for a in range (len (num)):\n",
        "  sum += (num[a] * percent[a])\n",
        "print('Weighted Sum: ',sum)\n",
        "\n",
        "mean = 0\n",
        "for a in range (len(num)):\n",
        "  mean += (num[a])\n",
        "mean = mean / len(num)\n",
        "\n",
        "total = 0\n",
        "for a in range (len(num)):\n",
        "  total += (a-mean)**2\n",
        "\n",
        "value = total / len(num)\n",
        "std = math.sqrt(value)\n",
        "print('Standard Deviation: ',std)"
      ],
      "execution_count": 76,
      "outputs": [
        {
          "output_type": "stream",
          "text": [
            "1 1\n",
            "0.1 0.1\n",
            "Weighted Sum:  0.2\n",
            "Standard Deviation:  0.7071067811865476\n"
          ],
          "name": "stdout"
        }
      ]
    }
  ]
}