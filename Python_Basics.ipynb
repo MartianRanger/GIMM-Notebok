{
  "nbformat": 4,
  "nbformat_minor": 0,
  "metadata": {
    "colab": {
      "name": "Python Basics.ipynb",
      "version": "0.3.2",
      "provenance": [],
      "include_colab_link": true
    },
    "kernelspec": {
      "name": "python3",
      "display_name": "Python 3"
    }
  },
  "cells": [
    {
      "cell_type": "markdown",
      "metadata": {
        "id": "view-in-github",
        "colab_type": "text"
      },
      "source": [
        "<a href=\"https://colab.research.google.com/github/MartianRanger/GIMM-Notebok/blob/master/Python_Basics.ipynb\" target=\"_parent\"><img src=\"https://colab.research.google.com/assets/colab-badge.svg\" alt=\"Open In Colab\"/></a>"
      ]
    },
    {
      "cell_type": "code",
      "metadata": {
        "id": "wUW4wQNcyJZP",
        "colab_type": "code",
        "colab": {}
      },
      "source": [
        "x = 1\n",
        "if x == 1: #if loop\n",
        "    # indented four spaces\n",
        "    print(\"x is 1.\") #how to print a line\n",
        "\n",
        "myfloat = float(7) #automatically turns an integer into a float\n",
        "print(myfloat)\n",
        "\n",
        "mystring = \"Don't worry about apostrophes\" #if you use double quotes, you can use apostrophes in Strings\n",
        "print(mystring)\n",
        "\n",
        "a, b = 3, 4 #you can assign multiple values on one line\n",
        "print(a,b)\n",
        "\n",
        "mylist = []\n",
        "mylist.append(1) #how to add alues\n",
        "print(mylist[0]) # prints 1\n",
        "\n",
        "for x in mylist: #array loop\n",
        "    print(x)\n",
        "    \n",
        "remainder = 11 % 3 #gets remainder value\n",
        "print(remainder)\n",
        "\n",
        "squared = 7 ** 2 #how to square a value\n",
        "print(squared)\n",
        "\n",
        "lotsofhellos = \"hello\" * 10 #you can multiply one string\n",
        "print(lotsofhellos)\n",
        "\n",
        "even_numbers = [2,4,6,8]\n",
        "odd_numbers = [1,3,5,7]\n",
        "all_numbers = odd_numbers + even_numbers \n",
        "print(all_numbers) #output: [1, 3, 5, 7, 2, 4, 6, 8]\n",
        "\n",
        "name = \"John\"\n",
        "print(\"Hello, %s!\" % name) #using the % and then another letter as a variable in a string you can put variables in the string itself\n",
        "\n",
        "\"\"\"\n",
        "%s - String (or any object with a string representation, like numbers)\n",
        "\n",
        "%d - Integers\n",
        "\n",
        "%f - Floating point numbers\n",
        "\n",
        "%.<number of digits>f - Floating point numbers with a fixed amount of digits to the right of the dot.\n",
        "\n",
        "%x/%X - Integers in hex representation (lowercase/uppercase)\n",
        "\n",
        "\n",
        "\"\"\"\n",
        "\n",
        "x = 2\n",
        "print(x == 2) # prints out True\n",
        "#just a quick way of showing a boolean\n",
        "\n",
        "name = \"John\"\n",
        "if name in [\"John\", \"Rick\"]: #If statement to check the list\n",
        "    print(\"Your name is either John or Rick.\")\n",
        "\n"
      ],
      "execution_count": 0,
      "outputs": []
    }
  ]
}