{
  "nbformat": 4,
  "nbformat_minor": 0,
  "metadata": {
    "colab": {
      "name": "Journal_for_400_september_6.ipynb",
      "version": "0.3.2",
      "provenance": [],
      "include_colab_link": true
    },
    "kernelspec": {
      "name": "python3",
      "display_name": "Python 3"
    }
  },
  "cells": [
    {
      "cell_type": "markdown",
      "metadata": {
        "id": "view-in-github",
        "colab_type": "text"
      },
      "source": [
        "<a href=\"https://colab.research.google.com/github/MartianRanger/GIMM-Notebok/blob/master/Journal_for_400_september_6.ipynb\" target=\"_parent\"><img src=\"https://colab.research.google.com/assets/colab-badge.svg\" alt=\"Open In Colab\"/></a>"
      ]
    },
    {
      "cell_type": "code",
      "metadata": {
        "id": "QCpMLj_wNPOB",
        "colab_type": "code",
        "outputId": "2d7fa674-34a8-4744-d1ec-2ec53da92374",
        "colab": {
          "base_uri": "https://localhost:8080/",
          "height": 50
        }
      },
      "source": [
        "def example_func(input_string):\n",
        "  #code on how to count the number of words in a string\n",
        "  x = input_string.split() \n",
        "  length = len(x)\n",
        " \n",
        "  return length\n",
        "str = input(\"Enter string: \")\n",
        "print (example_func(str))"
      ],
      "execution_count": 0,
      "outputs": [
        {
          "output_type": "stream",
          "text": [
            "Enter string: sleep tight and don't let the bed bugs put their foot in your ass\n",
            "14\n"
          ],
          "name": "stdout"
        }
      ]
    }
  ]
}